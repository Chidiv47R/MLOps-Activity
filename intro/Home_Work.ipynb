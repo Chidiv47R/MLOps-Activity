{
 "cells": [
  {
   "cell_type": "code",
   "execution_count": 1,
   "id": "1615f791",
   "metadata": {},
   "outputs": [],
   "source": [
    "import pandas as pd\n",
    "import numpy as np\n",
    "from sklearn.preprocessing import LabelEncoder\n",
    "from sklearn.feature_extraction import DictVectorizer\n",
    "from sklearn.linear_model import LinearRegression\n",
    "from sklearn.linear_model import Lasso\n",
    "from sklearn.linear_model import Ridge\n",
    "from sklearn.metrics import mean_squared_error\n",
    "import seaborn as sns\n",
    "import matplotlib.pyplot as plt\n",
    "import pickle"
   ]
  },
  {
   "cell_type": "code",
   "execution_count": 2,
   "id": "3c0a4090",
   "metadata": {},
   "outputs": [],
   "source": [
    "yellow_j=pd.read_parquet(\"https://d37ci6vzurychx.cloudfront.net/trip-data/yellow_tripdata_2023-01.parquet\")"
   ]
  },
  {
   "cell_type": "code",
   "execution_count": 3,
   "id": "7746a62e",
   "metadata": {},
   "outputs": [],
   "source": [
    "yellow_f=pd.read_parquet(\"https://d37ci6vzurychx.cloudfront.net/trip-data/yellow_tripdata_2023-02.parquet\")"
   ]
  },
  {
   "cell_type": "code",
   "execution_count": 4,
   "id": "7edb7738",
   "metadata": {},
   "outputs": [
    {
     "name": "stdout",
     "output_type": "stream",
     "text": [
      "No of Columns yellow cab January 2023 =  19\n"
     ]
    }
   ],
   "source": [
    "#number of columns present in the jan 2023 yellow cab data set\n",
    "Columns=len(yellow_j.columns)\n",
    "print (\"No of Columns yellow cab January 2023 = \", Columns)"
   ]
  },
  {
   "cell_type": "code",
   "execution_count": 5,
   "id": "b2097bc5",
   "metadata": {},
   "outputs": [
    {
     "name": "stdout",
     "output_type": "stream",
     "text": [
      "Standard Deviation of the Duration of Yellow Cabs January 2023 =  42.5943442974141\n"
     ]
    }
   ],
   "source": [
    "#convert both duration columns to date time\n",
    "\n",
    "yellow_j['tpep_pickup_datetime'] = pd.to_datetime(yellow_j['tpep_pickup_datetime'])\n",
    "yellow_j['tpep_dropoff_datetime'] = pd.to_datetime(yellow_j['tpep_dropoff_datetime'])\n",
    "\n",
    "#solve for the duration in minutes and return to the df\n",
    "\n",
    "yellow_j['duration']=(yellow_j['tpep_dropoff_datetime'] - yellow_j['tpep_pickup_datetime']).dt.total_seconds()/60\n",
    "\n",
    "print (\"Standard Deviation of the Duration of Yellow Cabs January 2023 = \", np.std(yellow_j['duration']))"
   ]
  },
  {
   "cell_type": "code",
   "execution_count": 6,
   "id": "01c18c4d",
   "metadata": {},
   "outputs": [
    {
     "name": "stdout",
     "output_type": "stream",
     "text": [
      "Yellow cabs observations Jan 2023, duration >= 1 or <=60 = 3009173\n",
      "Yellow cabs observations Jan 2023 3066766\n",
      "Propotion of dropped outliers = 98.122%\n"
     ]
    }
   ],
   "source": [
    "#drop rows\n",
    "yellow_jan = yellow_j[(yellow_j['duration'] >= 1) & (yellow_j['duration'] <= 60)]\n",
    "\n",
    "rows_Yjan=yellow_jan.shape[0]\n",
    "\n",
    "print(\"Yellow cabs observations Jan 2023, duration >= 1 or <=60 =\",rows_Yjan)\n",
    "\n",
    "rows_Yj=yellow_j.shape[0]\n",
    "\n",
    "print(\"Yellow cabs observations Jan 2023\",rows_Yj)\n",
    "\n",
    "prop_n=rows_Yjan/rows_Yj\n",
    "\n",
    "print(\"Propotion of dropped outliers = {:.3%}\". format(prop_n))"
   ]
  },
  {
   "cell_type": "code",
   "execution_count": 7,
   "id": "de18704d",
   "metadata": {},
   "outputs": [
    {
     "name": "stderr",
     "output_type": "stream",
     "text": [
      "/tmp/ipykernel_169333/2926570742.py:4: SettingWithCopyWarning: \n",
      "A value is trying to be set on a copy of a slice from a DataFrame.\n",
      "Try using .loc[row_indexer,col_indexer] = value instead\n",
      "\n",
      "See the caveats in the documentation: https://pandas.pydata.org/pandas-docs/stable/user_guide/indexing.html#returning-a-view-versus-a-copy\n",
      "  yellow_jan[categorical] = yellow_jan[categorical].astype(str)\n"
     ]
    },
    {
     "data": {
      "text/plain": [
       "[{'PULocationID': '43', 'DOLocationID': '237'},\n",
       " {'PULocationID': '48', 'DOLocationID': '238'},\n",
       " {'PULocationID': '138', 'DOLocationID': '7'},\n",
       " {'PULocationID': '107', 'DOLocationID': '79'}]"
      ]
     },
     "execution_count": 7,
     "metadata": {},
     "output_type": "execute_result"
    }
   ],
   "source": [
    "#Feature Selection\n",
    "categorical=['PULocationID','DOLocationID']\n",
    "\n",
    "yellow_jan[categorical] = yellow_jan[categorical].astype(str)\n",
    "\n",
    "train_dicts = yellow_jan[categorical].to_dict(orient='records')\n",
    "\n",
    "train_dicts[1:5]"
   ]
  },
  {
   "cell_type": "code",
   "execution_count": 8,
   "id": "c9f3f868",
   "metadata": {},
   "outputs": [
    {
     "name": "stdout",
     "output_type": "stream",
     "text": [
      "4, Dimension of feature_matrix: (3009173, 515) \n",
      "\n",
      "Ean Square Error = 7.649261027919939\n"
     ]
    }
   ],
   "source": [
    "dv = DictVectorizer(sparse=True)\n",
    "\n",
    "feature_matrix = dv.fit_transform(train_dicts)\n",
    "\n",
    "\n",
    "\n",
    "X_train = dv.fit_transform(train_dicts)\n",
    "\n",
    "target = 'duration'\n",
    "y_train = yellow_jan[target].values\n",
    "\n",
    "lr = LinearRegression()\n",
    "lr.fit(X_train, y_train)\n",
    "\n",
    "y_pred = lr.predict(X_train)\n",
    "\n",
    "mse=mean_squared_error(y_train, y_pred, squared=False)\n",
    "\n",
    "print(f\"4, Dimension of feature_matrix: {feature_matrix.shape} \\n\")\n",
    "print(\"Mean Square Error =\",mse)"
   ]
  },
  {
   "cell_type": "code",
   "execution_count": 9,
   "id": "96b3ce80",
   "metadata": {},
   "outputs": [],
   "source": [
    "def read_dataframe(filename):\n",
    "    if filename.endswith('.csv'):\n",
    "        df = pd.read_csv(filename)\n",
    "\n",
    "        df.lpep_dropoff_datetime = pd.to_datetime(df.lpep_dropoff_datetime)\n",
    "        df.lpep_pickup_datetime = pd.to_datetime(df.lpep_pickup_datetime)\n",
    "    elif filename.endswith('.parquet'):\n",
    "        df = pd.read_parquet(filename)\n",
    "    \n",
    "    #convert both duration columns to date time\n",
    "\n",
    "    df['tpep_pickup_datetime'] = pd.to_datetime(df['tpep_pickup_datetime'])\n",
    "    df['tpep_dropoff_datetime'] = pd.to_datetime(df['tpep_dropoff_datetime'])\n",
    "\n",
    "    #solve for the duration in minutes and return to the df\n",
    "\n",
    "    df['duration']=(df['tpep_dropoff_datetime'] - df['tpep_pickup_datetime'])\n",
    "\n",
    "    df.duration = df.duration.apply(lambda td: td.total_seconds()/60)\n",
    "\n",
    "    #drop rows\n",
    "    df = df[(df['duration'] >= 1) & (df['duration'] <= 60)]\n",
    "\n",
    "    #Feature Selection\n",
    "    categorical=['PULocationID','DOLocationID']\n",
    "    numerical=['trip_distance']\n",
    "\n",
    "    df[categorical] = df[categorical].astype(str)\n",
    "    \n",
    "    return df"
   ]
  },
  {
   "cell_type": "code",
   "execution_count": 10,
   "id": "e66ba4e2",
   "metadata": {},
   "outputs": [],
   "source": [
    "df_val=read_dataframe(\"https://d37ci6vzurychx.cloudfront.net/trip-data/yellow_tripdata_2023-02.parquet\")\n",
    "df_train=yellow_jan"
   ]
  },
  {
   "cell_type": "code",
   "execution_count": 11,
   "id": "d70759dd",
   "metadata": {},
   "outputs": [],
   "source": [
    "categorical = ['PULocationID','DOLocationID'] \n",
    "\n",
    "dv = DictVectorizer()\n",
    "\n",
    "train_dicts = df_train[categorical].to_dict(orient='records')\n",
    "X_train = dv.fit_transform(train_dicts)\n",
    "\n",
    "val_dicts = df_val[categorical].to_dict(orient='records')\n",
    "X_val = dv.transform(val_dicts)"
   ]
  },
  {
   "cell_type": "code",
   "execution_count": 14,
   "id": "3be5058d",
   "metadata": {},
   "outputs": [],
   "source": [
    "target = 'duration'\n",
    "y_train = df_train[target].values\n",
    "y_val = df_val[target].values"
   ]
  },
  {
   "cell_type": "code",
   "execution_count": 15,
   "id": "7ccd9b3c",
   "metadata": {},
   "outputs": [
    {
     "data": {
      "text/plain": [
       "7.811832638273232"
      ]
     },
     "execution_count": 15,
     "metadata": {},
     "output_type": "execute_result"
    }
   ],
   "source": [
    "lr = LinearRegression()\n",
    "lr.fit(X_train, y_train)\n",
    "\n",
    "y_pred = lr.predict(X_val)\n",
    "\n",
    "mean_squared_error(y_val, y_pred, squared=False)"
   ]
  },
  {
   "cell_type": "code",
   "execution_count": null,
   "id": "6091ccdf",
   "metadata": {},
   "outputs": [],
   "source": []
  }
 ],
 "metadata": {
  "kernelspec": {
   "display_name": "Python 3 (ipykernel)",
   "language": "python",
   "name": "python3"
  },
  "language_info": {
   "codemirror_mode": {
    "name": "ipython",
    "version": 3
   },
   "file_extension": ".py",
   "mimetype": "text/x-python",
   "name": "python",
   "nbconvert_exporter": "python",
   "pygments_lexer": "ipython3",
   "version": "3.9.12"
  }
 },
 "nbformat": 4,
 "nbformat_minor": 5
}
