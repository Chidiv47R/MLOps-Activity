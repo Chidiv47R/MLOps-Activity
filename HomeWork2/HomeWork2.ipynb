{
 "cells": [
  {
   "cell_type": "code",
   "execution_count": 1,
   "id": "66b7d581",
   "metadata": {},
   "outputs": [
    {
     "name": "stdout",
     "output_type": "stream",
     "text": [
      "mlflow, version 2.13.0\r\n"
     ]
    }
   ],
   "source": [
    "#!pip install mlflow\n",
    "!mlflow --version"
   ]
  },
  {
   "cell_type": "code",
   "execution_count": 2,
   "id": "b940a15e",
   "metadata": {},
   "outputs": [
    {
     "name": "stdout",
     "output_type": "stream",
     "text": [
      "  % Total    % Received % Xferd  Average Speed   Time    Time     Time  Current\n",
      "                                 Dload  Upload   Total   Spent    Left  Speed\n",
      "100 1393k  100 1393k    0     0  3472k      0 --:--:-- --:--:-- --:--:-- 3466k\n",
      "  % Total    % Received % Xferd  Average Speed   Time    Time     Time  Current\n",
      "                                 Dload  Upload   Total   Spent    Left  Speed\n",
      "100 1497k  100 1497k    0     0  33.4M      0 --:--:-- --:--:-- --:--:-- 34.0M\n",
      "  % Total    % Received % Xferd  Average Speed   Time    Time     Time  Current\n",
      "                                 Dload  Upload   Total   Spent    Left  Speed\n",
      "100 1690k  100 1690k    0     0  44.0M      0 --:--:-- --:--:-- --:--:-- 44.6M\n"
     ]
    }
   ],
   "source": [
    "!mkdir -p datasets\n",
    "!curl -o ./datasets/green_tripdata_2023-01.parquet https://d37ci6vzurychx.cloudfront.net/trip-data/green_tripdata_2023-01.parquet\n",
    "!curl -o ./datasets/green_tripdata_2023-02.parquet https://d37ci6vzurychx.cloudfront.net/trip-data/green_tripdata_2023-02.parquet\n",
    "!curl -o ./datasets/green_tripdata_2023-03.parquet https://d37ci6vzurychx.cloudfront.net/trip-data/green_tripdata_2023-03.parquet"
   ]
  },
  {
   "cell_type": "code",
   "execution_count": 3,
   "id": "c5d452cd",
   "metadata": {},
   "outputs": [
    {
     "name": "stdout",
     "output_type": "stream",
     "text": [
      "python: can't open file '/workspaces/MLOps-Activity/HomeWork2/preprocess_data.py': [Errno 2] No such file or directory\r\n"
     ]
    }
   ],
   "source": [
    "!python preprocess_data.py --raw_data_path datasets/ --dest_path ./output"
   ]
  },
  {
   "cell_type": "code",
   "execution_count": null,
   "id": "d02978bf",
   "metadata": {},
   "outputs": [],
   "source": []
  }
 ],
 "metadata": {
  "kernelspec": {
   "display_name": "Python 3 (ipykernel)",
   "language": "python",
   "name": "python3"
  },
  "language_info": {
   "codemirror_mode": {
    "name": "ipython",
    "version": 3
   },
   "file_extension": ".py",
   "mimetype": "text/x-python",
   "name": "python",
   "nbconvert_exporter": "python",
   "pygments_lexer": "ipython3",
   "version": "3.9.12"
  }
 },
 "nbformat": 4,
 "nbformat_minor": 5
}
